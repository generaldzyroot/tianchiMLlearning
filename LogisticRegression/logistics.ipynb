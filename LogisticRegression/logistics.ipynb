{
 "cells": [
  {
   "cell_type": "markdown",
   "metadata": {
    "id": "E5AD5587F5624CBC8AFC9750B93D3A99",
    "mdEditEnable": false
   },
   "source": [
    "# 机器学习算法（一）: 基于逻辑回归的分类预测"
   ]
  },
  {
   "cell_type": "markdown",
   "metadata": {},
   "source": [
    "## 1 逻辑回归的介绍和应用\n",
    "\n",
    "### 1.1 逻辑回归的介绍\n",
    "\n",
    "逻辑回归（Logistic regression，简称LR）虽然其中带有\"回归\"两个字，但逻辑回归其实是一个**分类**模型，并且广泛应用于各个领域之中。虽然现在深度学习相对于这些传统方法更为火热，但实则这些传统方法由于其独特的优势依然广泛应用于各个领域中。\n",
    "\n",
    "而对于逻辑回归而且，最为突出的两点就是其**模型简单**和**模型的可解释性强**。\n",
    "\n",
    "逻辑回归模型的优劣势:\n",
    "* 优点：实现简单，易于理解和实现；计算代价不高，速度很快，存储资源低；\n",
    "* 缺点：容易欠拟合，分类精度可能不高\n",
    "\n",
    "### 1.1 逻辑回归的应用\n",
    "\n",
    "\n",
    "逻辑回归模型广泛用于各个领域，包括机器学习，大多数医学领域和社会科学。例如，最初由Boyd 等人开发的创伤和损伤严重度评分（TRISS）被广泛用于预测受伤患者的死亡率，使用逻辑回归 基于观察到的患者特征（年龄，性别，体重指数,各种血液检查的结果等）分析预测发生特定疾病（例如糖尿病，冠心病）的风险。逻辑回归模型也用于预测在给定的过程中，系统或产品的故障的可能性。还用于市场营销应用程序，例如预测客户购买产品或中止订购的倾向等。在经济学中它可以用来预测一个人选择进入劳动力市场的可能性，而商业应用则可以用来预测房主拖欠抵押贷款的可能性。条件随机字段是逻辑回归到顺序数据的扩展，用于自然语言处理。\n",
    "\n",
    "逻辑回归模型现在同样是很多分类算法的基础组件,比如 分类任务中基于GBDT算法+LR逻辑回归实现的信用卡交易反欺诈，CTR(点击通过率)预估等，其好处在于输出值自然地落在0到1之间，并且有概率意义。模型清晰，有对应的概率学理论基础。它拟合出来的参数就代表了每一个特征(feature)对结果的影响。也是一个理解数据的好工具。但同时由于其本质上是一个线性的分类器，所以不能应对较为复杂的数据情况。很多时候我们也会拿逻辑回归模型去做一些任务尝试的基线（基础水平）。\n",
    "\n",
    "说了这些逻辑回归的概念和应用，大家应该已经对其有所期待了吧，那么我们现在开始吧！！！"
   ]
  },
  {
   "cell_type": "markdown",
   "metadata": {
    "id": "A9ED05C1D4AA43A6960DB0FEC8A9B069",
    "mdEditEnable": false
   },
   "source": [
    "## 2 学习目标\n",
    "* 了解 逻辑回归 的理论\n",
    "* 掌握 逻辑回归 的 sklearn 函数调用使用并将其运用到鸢尾花数据集预测"
   ]
  },
  {
   "cell_type": "markdown",
   "metadata": {
    "id": "892D24CCBC864FB0944274780C9B2147",
    "mdEditEnable": false
   },
   "source": [
    "## 3 代码流程\n",
    "\n",
    "* Part1 Demo实践\n",
    "* * Step1:库函数导入\n",
    "* * Step2:模型训练\n",
    "* * Step3:模型参数查看\n",
    "* * Step4:数据和模型可视化\n",
    "* * Step5:模型预测\n",
    "\n",
    "\n",
    "* Part2 基于鸢尾花（iris）数据集的逻辑回归分类实践\n",
    "* * Step1:库函数导入\n",
    "* * Step2:数据读取/载入\n",
    "* * Step3:数据信息简单查看\n",
    "* * Step4:可视化描述\n",
    "* * Step5:利用 逻辑回归模型 在二分类上 进行训练和预测\n",
    "* * Step5:利用 逻辑回归模型 在三分类(多分类)上 进行训练和预测"
   ]
  },
  {
   "cell_type": "markdown",
   "metadata": {
    "id": "B48C7F3C41FA4D7EA4DEAC48D0BE4F7B",
    "mdEditEnable": false
   },
   "source": [
    "## 4 算法实战"
   ]
  },
  {
   "cell_type": "markdown",
   "metadata": {},
   "source": [
    "### 4.1 Demo实践"
   ]
  },
  {
   "cell_type": "markdown",
   "metadata": {},
   "source": [
    "**Step1:库函数导入**"
   ]
  },
  {
   "cell_type": "code",
   "execution_count": 1,
   "metadata": {},
   "outputs": [],
   "source": [
    "##  基础函数库\n",
    "import numpy as np \n",
    "\n",
    "## 导入画图库\n",
    "import matplotlib.pyplot as plt\n",
    "import seaborn as sns\n",
    "\n",
    "## 导入逻辑回归模型函数\n",
    "from sklearn.linear_model import LogisticRegression"
   ]
  },
  {
   "cell_type": "markdown",
   "metadata": {},
   "source": [
    "**Step2:模型训练**"
   ]
  },
  {
   "cell_type": "code",
   "execution_count": 2,
   "metadata": {},
   "outputs": [],
   "source": [
    "##Demo演示LogisticRegression分类\n",
    "\n",
    "## 构造数据集\n",
    "x_fearures = np.array([[-1, -2], [-2, -1], [-3, -2], [1, 3], [2, 1], [3, 2]])\n",
    "y_label = np.array([0, 0, 0, 1, 1, 1])\n",
    "\n",
    "## 调用逻辑回归模型\n",
    "lr_clf = LogisticRegression()\n",
    "\n",
    "## 用逻辑回归模型拟合构造的数据集\n",
    "lr_clf = lr_clf.fit(x_fearures, y_label) #其拟合方程为 z=w0+w1*x1+w2*x2  y = sigmod(z)"
   ]
  },
  {
   "cell_type": "markdown",
   "metadata": {},
   "source": [
    "**Step3:模型参数查看**"
   ]
  },
  {
   "cell_type": "code",
   "execution_count": 3,
   "metadata": {},
   "outputs": [
    {
     "name": "stdout",
     "output_type": "stream",
     "text": [
      "the weight of Logistic Regression: [[0.73455784 0.69539712]]\n",
      "the intercept(w0) of Logistic Regression: [-0.13139986]\n"
     ]
    }
   ],
   "source": [
    "## 查看其对应模型的w\n",
    "print('the weight of Logistic Regression:',lr_clf.coef_)\n",
    "\n",
    "## 查看其对应模型的w0\n",
    "print('the intercept(w0) of Logistic Regression:',lr_clf.intercept_)"
   ]
  },
  {
   "cell_type": "markdown",
   "metadata": {},
   "source": [
    "**Step4:数据和模型可视化**"
   ]
  },
  {
   "cell_type": "code",
   "execution_count": 4,
   "metadata": {},
   "outputs": [
    {
     "data": {
      "image/png": "[encoded data removed]",
      "text/plain": [
       "<Figure size 432x288 with 1 Axes>"
      ]
     },
     "metadata": {
      "needs_background": "light"
     },
     "output_type": "display_data"
    }
   ],
   "source": [
    "## 可视化构造的数据样本点\n",
    "plt.figure()\n",
    "plt.scatter(x_fearures[:,0],x_fearures[:,1], c=y_label, s=50, cmap='viridis')\n",
    "plt.title('Dataset')\n",
    "# 参数s：点的大小，c：label 信息，cmap颜色序列\n",
    "plt.show()"
   ]
  },
  {
   "cell_type": "code",
   "execution_count": 5,
   "metadata": {},
   "outputs": [
    {
     "data": {
      "image/png": "[encoded data removed]",
      "text/plain": [
       "<Figure size 432x288 with 1 Axes>"
      ]
     },
     "metadata": {
      "needs_background": "light"
     },
     "output_type": "display_data"
    }
   ],
   "source": [
    "# 可视化决策边界\n",
    "plt.figure()\n",
    "plt.scatter(x_fearures[:,0],x_fearures[:,1], c=y_label, s=50, cmap='viridis')\n",
    "plt.title('Dataset')\n",
    "\n",
    "nx, ny = 200, 100\n",
    "x_min, x_max = plt.xlim()\n",
    "y_min, y_max = plt.ylim()\n",
    "x_grid, y_grid = np.meshgrid(np.linspace(x_min, x_max, nx),np.linspace(y_min, y_max, ny))\n",
    "#以x_min为下界,x_max为上界，平均分成nx个数\n",
    "# x_grid,y_grid = np.meshgrid(np.linspace(x_min,x_max,nx),np.linspace(y_min,y_max,ny))\n",
    "# 返回的x_grid表示y_grid个长度为x_grid的向量，每个向量为x_grid\n",
    "# 返回的y_grid表示y_grid个长度为x_grid的向量，每个向量均为重复的y_grid[i]\n",
    "# 这样可以将整个图片网格化\n",
    "z_proba = lr_clf.predict_proba(np.c_[x_grid.ravel(), y_grid.ravel()])\n",
    "z_proba = z_proba[:, 1].reshape(x_grid.shape)\n",
    "plt.contour(x_grid, y_grid, z_proba, [0.5], linewidths=2., colors='blue')\n",
    "#np.ravel将数组连续化，比如np.ravel([[1,2,3],[1,2,3],[1,2,3]])\n",
    "# 返回array([1, 2, 3, 1, 2, 3, 1, 2, 3])\n",
    "# 故x_grid.ravel()返回长度为200*100的一维数组，100组，一组为一条横坐标\n",
    "# y_grid.ravel()为200*100的一维数组，100组，一组为一条纵坐标\n",
    "# # np.c_按行连接数组，因为在本例中都是一维数组，故相当于组成200*100 个坐标\n",
    "# # predict_proba(生成属于某一类的概率)(对所有网格进行预测)\n",
    "plt.show()"
   ]
  },
  {
   "cell_type": "code",
   "execution_count": 6,
   "metadata": {},
   "outputs": [
    {
     "name": "stderr",
     "output_type": "stream",
     "text": [
      "/opt/conda/lib/python3.6/site-packages/ipykernel_launcher.py:7: MatplotlibDeprecationWarning: The 's' parameter of annotate() has been renamed 'text' since Matplotlib 3.3; support for the old name will be dropped two minor releases later.\n",
      "  import sys\n",
      "/opt/conda/lib/python3.6/site-packages/ipykernel_launcher.py:12: MatplotlibDeprecationWarning: The 's' parameter of annotate() has been renamed 'text' since Matplotlib 3.3; support for the old name will be dropped two minor releases later.\n",
      "  if sys.path[0] == '':\n"
     ]
    },
    {
     "data": {
      "image/png": "[encoded data removed]",
      "text/plain": [
       "<Figure size 432x288 with 1 Axes>"
      ]
     },
     "metadata": {
      "needs_background": "light"
     },
     "output_type": "display_data"
    }
   ],
   "source": [
    "### 可视化预测新样本\n",
    "\n",
    "plt.figure()\n",
    "## new point 1\n",
    "x_fearures_new1 = np.array([[0, -1]])\n",
    "plt.scatter(x_fearures_new1[:,0],x_fearures_new1[:,1], s=50, cmap='viridis')\n",
    "plt.annotate(s='New point 1',xy=(0,-1),xytext=(-2,0),color='blue',arrowprops=dict(arrowstyle='-|>',connectionstyle='arc3',color='red'))\n",
    "\n",
    "## new point 2\n",
    "x_fearures_new2 = np.array([[1, 2]])\n",
    "plt.scatter(x_fearures_new2[:,0],x_fearures_new2[:,1], s=50, cmap='viridis')\n",
    "plt.annotate(s='New point 2',xy=(1,2),xytext=(-1.5,2.5),color='red',arrowprops=dict(arrowstyle='-|>',connectionstyle='arc3',color='red'))\n",
    "\n",
    "## 训练样本\n",
    "plt.scatter(x_fearures[:,0],x_fearures[:,1], c=y_label, s=50, cmap='viridis')\n",
    "plt.title('Dataset')\n",
    "\n",
    "# 可视化决策边界\n",
    "plt.contour(x_grid, y_grid, z_proba, [0.5], linewidths=2., colors='blue')\n",
    "\n",
    "plt.show()\n",
    "## plt.contour表示等高线，x_grid,y_grid分别表示横纵坐标，z_proba是我们预测出的结果（也是我们画等高线的依据），[0.5] 表示我们以z_proba来画等高线，不带[],直接写int表示画几条线\n"
   ]
  },
  {
   "cell_type": "markdown",
   "metadata": {},
   "source": [
    "**Step5:模型预测**"
   ]
  },
  {
   "cell_type": "code",
   "execution_count": 7,
   "metadata": {},
   "outputs": [
    {
     "name": "stdout",
     "output_type": "stream",
     "text": [
      "The New point 1 predict class:\n",
      " [0]\n",
      "The New point 2 predict class:\n",
      " [1]\n",
      "The New point 1 predict Probability of each class:\n",
      " [[0.69567724 0.30432276]]\n",
      "The New point 2 predict Probability of each class:\n",
      " [[0.11983936 0.88016064]]\n"
     ]
    }
   ],
   "source": [
    "## 在训练集和测试集上分布利用训练好的模型进行预测\n",
    "y_label_new1_predict = lr_clf.predict(x_fearures_new1)\n",
    "y_label_new2_predict = lr_clf.predict(x_fearures_new2)\n",
    "\n",
    "print('The New point 1 predict class:\\n',y_label_new1_predict)\n",
    "print('The New point 2 predict class:\\n',y_label_new2_predict)\n",
    "\n",
    "## 由于逻辑回归模型是概率预测模型（前文介绍的 p = p(y=1|x,\\theta)）,所有我们可以利用 predict_proba 函数预测其概率\n",
    "y_label_new1_predict_proba = lr_clf.predict_proba(x_fearures_new1)\n",
    "y_label_new2_predict_proba = lr_clf.predict_proba(x_fearures_new2)\n",
    "\n",
    "print('The New point 1 predict Probability of each class:\\n',y_label_new1_predict_proba)\n",
    "print('The New point 2 predict Probability of each class:\\n',y_label_new2_predict_proba)"
   ]
  },
  {
   "cell_type": "markdown",
   "metadata": {},
   "source": [
    "可以发现训练好的回归模型将X_new1预测为了类别0（判别面左下侧），X_new2预测为了类别1（判别面右上侧）。其训练得到的逻辑回归模型的概率为0.5的判别面为上图中蓝色的线。"
   ]
  },
  {
   "cell_type": "markdown",
   "metadata": {},
   "source": [
    "### 4.2 基于鸢尾花（iris）数据集的逻辑回归分类实践"
   ]
  },
  {
   "cell_type": "markdown",
   "metadata": {},
   "source": [
    "在实践的最开始，我们首先需要导入一些基础的函数库包括：numpy （Python进行科学计算的基础软件包），pandas（pandas是一种快速，强大，灵活且易于使用的开源数据分析和处理工具），matplotlib和seaborn绘图。"
   ]
  },
  {
   "cell_type": "markdown",
   "metadata": {},
   "source": [
    "**Step1:库函数导入**"
   ]
  },
  {
   "cell_type": "code",
   "execution_count": 8,
   "metadata": {},
   "outputs": [],
   "source": [
    "##  基础函数库\n",
    "import numpy as np \n",
    "import pandas as pd\n",
    "\n",
    "## 绘图函数库\n",
    "import matplotlib.pyplot as plt\n",
    "import seaborn as sns"
   ]
  },
  {
   "cell_type": "markdown",
   "metadata": {},
   "source": [
    "本次我们选择鸢花数据（iris）进行方法的尝试训练，该数据集一共包含5个变量，其中4个特征变量，1个目标分类变量。共有150个样本，目标变量为 花的类别 其都属于鸢尾属下的三个亚属，分别是山鸢尾 (Iris-setosa)，变色鸢尾(Iris-versicolor)和维吉尼亚鸢尾(Iris-virginica)。包含的三种鸢尾花的四个特征，分别是花萼长度(cm)、花萼宽度(cm)、花瓣长度(cm)、花瓣宽度(cm)，这些形态特征在过去被用来识别物种。"
   ]
  },
  {
   "cell_type": "markdown",
   "metadata": {},
   "source": [
    "|  变量   | 描述  |\n",
    "|  ----  | ----  |\n",
    "| sepal length  | 花萼长度(cm) |\n",
    "| sepal width  | 花萼宽度(cm) |\n",
    "| petal length | 花瓣长度(cm) |\n",
    "| petal width  | 花瓣宽度(cm) |\n",
    "| target  | 鸢尾的三个亚属类别,'setosa'(0), 'versicolor'(1), 'virginica'(2)|"
   ]
  },
  {
   "cell_type": "markdown",
   "metadata": {},
   "source": [
    "**Step2:数据读取/载入**"
   ]
  },
  {
   "cell_type": "code",
   "execution_count": 9,
   "metadata": {},
   "outputs": [],
   "source": [
    "## 我们利用 sklearn 中自带的 iris 数据作为数据载入，并利用Pandas转化为DataFrame格式\n",
    "from sklearn.datasets import load_iris\n",
    "data = load_iris() #得到数据特征\n",
    "iris_target = data.target #得到数据对应的标签\n",
    "iris_features = pd.DataFrame(data=data.data, columns=data.feature_names) #利用Pandas转化为DataFrame格式"
   ]
  },
  {
   "cell_type": "markdown",
   "metadata": {},
   "source": [
    "**Step3:数据信息简单查看**"
   ]
  },
  {
   "cell_type": "code",
   "execution_count": 10,
   "metadata": {},
   "outputs": [
    {
     "name": "stdout",
     "output_type": "stream",
     "text": [
      "<class 'pandas.core.frame.DataFrame'>\n",
      "RangeIndex: 150 entries, 0 to 149\n",
      "Data columns (total 4 columns):\n",
      "sepal length (cm)    150 non-null float64\n",
      "sepal width (cm)     150 non-null float64\n",
      "petal length (cm)    150 non-null float64\n",
      "petal width (cm)     150 non-null float64\n",
      "dtypes: float64(4)\n",
      "memory usage: 4.8 KB\n"
     ]
    }
   ],
   "source": [
    "## 利用.info()查看数据的整体信息\n",
    "iris_features.info()"
   ]
  },
  {
   "cell_type": "code",
   "execution_count": 11,
   "metadata": {},
   "outputs": [
    {
     "data": {
      "text/html": [
       "<div>\n",
       "<style scoped>\n",
       "    .dataframe tbody tr th:only-of-type {\n",
       "        vertical-align: middle;\n",
       "    }\n",
       "\n",
       "    .dataframe tbody tr th {\n",
       "        vertical-align: top;\n",
       "    }\n",
       "\n",
       "    .dataframe thead th {\n",
       "        text-align: right;\n",
       "    }\n",
       "</style>\n",
       "<table border=\"1\" class=\"dataframe\">\n",
       "  <thead>\n",
       "    <tr style=\"text-align: right;\">\n",
       "      <th></th>\n",
       "      <th>sepal length (cm)</th>\n",
       "      <th>sepal width (cm)</th>\n",
       "      <th>petal length (cm)</th>\n",
       "      <th>petal width (cm)</th>\n",
       "    </tr>\n",
       "  </thead>\n",
       "  <tbody>\n",
       "    <tr>\n",
       "      <th>0</th>\n",
       "      <td>5.1</td>\n",
       "      <td>3.5</td>\n",
       "      <td>1.4</td>\n",
       "      <td>0.2</td>\n",
       "    </tr>\n",
       "    <tr>\n",
       "      <th>1</th>\n",
       "      <td>4.9</td>\n",
       "      <td>3.0</td>\n",
       "      <td>1.4</td>\n",
       "      <td>0.2</td>\n",
       "    </tr>\n",
       "    <tr>\n",
       "      <th>2</th>\n",
       "      <td>4.7</td>\n",
       "      <td>3.2</td>\n",
       "      <td>1.3</td>\n",
       "      <td>0.2</td>\n",
       "    </tr>\n",
       "    <tr>\n",
       "      <th>3</th>\n",
       "      <td>4.6</td>\n",
       "      <td>3.1</td>\n",
       "      <td>1.5</td>\n",
       "      <td>0.2</td>\n",
       "    </tr>\n",
       "    <tr>\n",
       "      <th>4</th>\n",
       "      <td>5.0</td>\n",
       "      <td>3.6</td>\n",
       "      <td>1.4</td>\n",
       "      <td>0.2</td>\n",
       "    </tr>\n",
       "  </tbody>\n",
       "</table>\n",
       "</div>"
      ],
      "text/plain": [
       "   sepal length (cm)  sepal width (cm)  petal length (cm)  petal width (cm)\n",
       "0                5.1               3.5                1.4               0.2\n",
       "1                4.9               3.0                1.4               0.2\n",
       "2                4.7               3.2                1.3               0.2\n",
       "3                4.6               3.1                1.5               0.2\n",
       "4                5.0               3.6                1.4               0.2"
      ]
     },
     "execution_count": 11,
     "metadata": {},
     "output_type": "execute_result"
    }
   ],
   "source": [
    "## 进行简单的数据查看，我们可以利用 .head() 头部.tail()尾部\n",
    "iris_features.head()"
   ]
  },
  {
   "cell_type": "code",
   "execution_count": 12,
   "metadata": {},
   "outputs": [
    {
     "data": {
      "text/html": [
       "<div>\n",
       "<style scoped>\n",
       "    .dataframe tbody tr th:only-of-type {\n",
       "        vertical-align: middle;\n",
       "    }\n",
       "\n",
       "    .dataframe tbody tr th {\n",
       "        vertical-align: top;\n",
       "    }\n",
       "\n",
       "    .dataframe thead th {\n",
       "        text-align: right;\n",
       "    }\n",
       "</style>\n",
       "<table border=\"1\" class=\"dataframe\">\n",
       "  <thead>\n",
       "    <tr style=\"text-align: right;\">\n",
       "      <th></th>\n",
       "      <th>sepal length (cm)</th>\n",
       "      <th>sepal width (cm)</th>\n",
       "      <th>petal length (cm)</th>\n",
       "      <th>petal width (cm)</th>\n",
       "    </tr>\n",
       "  </thead>\n",
       "  <tbody>\n",
       "    <tr>\n",
       "      <th>145</th>\n",
       "      <td>6.7</td>\n",
       "      <td>3.0</td>\n",
       "      <td>5.2</td>\n",
       "      <td>2.3</td>\n",
       "    </tr>\n",
       "    <tr>\n",
       "      <th>146</th>\n",
       "      <td>6.3</td>\n",
       "      <td>2.5</td>\n",
       "      <td>5.0</td>\n",
       "      <td>1.9</td>\n",
       "    </tr>\n",
       "    <tr>\n",
       "      <th>147</th>\n",
       "      <td>6.5</td>\n",
       "      <td>3.0</td>\n",
       "      <td>5.2</td>\n",
       "      <td>2.0</td>\n",
       "    </tr>\n",
       "    <tr>\n",
       "      <th>148</th>\n",
       "      <td>6.2</td>\n",
       "      <td>3.4</td>\n",
       "      <td>5.4</td>\n",
       "      <td>2.3</td>\n",
       "    </tr>\n",
       "    <tr>\n",
       "      <th>149</th>\n",
       "      <td>5.9</td>\n",
       "      <td>3.0</td>\n",
       "      <td>5.1</td>\n",
       "      <td>1.8</td>\n",
       "    </tr>\n",
       "  </tbody>\n",
       "</table>\n",
       "</div>"
      ],
      "text/plain": [
       "     sepal length (cm)  sepal width (cm)  petal length (cm)  petal width (cm)\n",
       "145                6.7               3.0                5.2               2.3\n",
       "146                6.3               2.5                5.0               1.9\n",
       "147                6.5               3.0                5.2               2.0\n",
       "148                6.2               3.4                5.4               2.3\n",
       "149                5.9               3.0                5.1               1.8"
      ]
     },
     "execution_count": 12,
     "metadata": {},
     "output_type": "execute_result"
    }
   ],
   "source": [
    "iris_features.tail()"
   ]
  },
  {
   "cell_type": "code",
   "execution_count": 13,
   "metadata": {},
   "outputs": [
    {
     "data": {
      "text/plain": [
       "array([0, 0, 0, 0, 0, 0, 0, 0, 0, 0, 0, 0, 0, 0, 0, 0, 0, 0, 0, 0, 0, 0,\n",
       "       0, 0, 0, 0, 0, 0, 0, 0, 0, 0, 0, 0, 0, 0, 0, 0, 0, 0, 0, 0, 0, 0,\n",
       "       0, 0, 0, 0, 0, 0, 1, 1, 1, 1, 1, 1, 1, 1, 1, 1, 1, 1, 1, 1, 1, 1,\n",
       "       1, 1, 1, 1, 1, 1, 1, 1, 1, 1, 1, 1, 1, 1, 1, 1, 1, 1, 1, 1, 1, 1,\n",
       "       1, 1, 1, 1, 1, 1, 1, 1, 1, 1, 1, 1, 2, 2, 2, 2, 2, 2, 2, 2, 2, 2,\n",
       "       2, 2, 2, 2, 2, 2, 2, 2, 2, 2, 2, 2, 2, 2, 2, 2, 2, 2, 2, 2, 2, 2,\n",
       "       2, 2, 2, 2, 2, 2, 2, 2, 2, 2, 2, 2, 2, 2, 2, 2, 2, 2])"
      ]
     },
     "execution_count": 13,
     "metadata": {},
     "output_type": "execute_result"
    }
   ],
   "source": [
    "## 其对应的类别标签为，其中0，1，2分别代表'setosa', 'versicolor', 'virginica'三种不同花的类别。\n",
    "iris_target"
   ]
  },
  {
   "cell_type": "code",
   "execution_count": 14,
   "metadata": {},
   "outputs": [
    {
     "data": {
      "text/plain": [
       "2    50\n",
       "1    50\n",
       "0    50\n",
       "dtype: int64"
      ]
     },
     "execution_count": 14,
     "metadata": {},
     "output_type": "execute_result"
    }
   ],
   "source": [
    "## 利用value_counts函数查看每个类别数量\n",
    "pd.Series(iris_target).value_counts()"
   ]
  },
  {
   "cell_type": "code",
   "execution_count": 15,
   "metadata": {},
   "outputs": [
    {
     "data": {
      "text/html": [
       "<div>\n",
       "<style scoped>\n",
       "    .dataframe tbody tr th:only-of-type {\n",
       "        vertical-align: middle;\n",
       "    }\n",
       "\n",
       "    .dataframe tbody tr th {\n",
       "        vertical-align: top;\n",
       "    }\n",
       "\n",
       "    .dataframe thead th {\n",
       "        text-align: right;\n",
       "    }\n",
       "</style>\n",
       "<table border=\"1\" class=\"dataframe\">\n",
       "  <thead>\n",
       "    <tr style=\"text-align: right;\">\n",
       "      <th></th>\n",
       "      <th>sepal length (cm)</th>\n",
       "      <th>sepal width (cm)</th>\n",
       "      <th>petal length (cm)</th>\n",
       "      <th>petal width (cm)</th>\n",
       "    </tr>\n",
       "  </thead>\n",
       "  <tbody>\n",
       "    <tr>\n",
       "      <th>count</th>\n",
       "      <td>150.000000</td>\n",
       "      <td>150.000000</td>\n",
       "      <td>150.000000</td>\n",
       "      <td>150.000000</td>\n",
       "    </tr>\n",
       "    <tr>\n",
       "      <th>mean</th>\n",
       "      <td>5.843333</td>\n",
       "      <td>3.057333</td>\n",
       "      <td>3.758000</td>\n",
       "      <td>1.199333</td>\n",
       "    </tr>\n",
       "    <tr>\n",
       "      <th>std</th>\n",
       "      <td>0.828066</td>\n",
       "      <td>0.435866</td>\n",
       "      <td>1.765298</td>\n",
       "      <td>0.762238</td>\n",
       "    </tr>\n",
       "    <tr>\n",
       "      <th>min</th>\n",
       "      <td>4.300000</td>\n",
       "      <td>2.000000</td>\n",
       "      <td>1.000000</td>\n",
       "      <td>0.100000</td>\n",
       "    </tr>\n",
       "    <tr>\n",
       "      <th>25%</th>\n",
       "      <td>5.100000</td>\n",
       "      <td>2.800000</td>\n",
       "      <td>1.600000</td>\n",
       "      <td>0.300000</td>\n",
       "    </tr>\n",
       "    <tr>\n",
       "      <th>50%</th>\n",
       "      <td>5.800000</td>\n",
       "      <td>3.000000</td>\n",
       "      <td>4.350000</td>\n",
       "      <td>1.300000</td>\n",
       "    </tr>\n",
       "    <tr>\n",
       "      <th>75%</th>\n",
       "      <td>6.400000</td>\n",
       "      <td>3.300000</td>\n",
       "      <td>5.100000</td>\n",
       "      <td>1.800000</td>\n",
       "    </tr>\n",
       "    <tr>\n",
       "      <th>max</th>\n",
       "      <td>7.900000</td>\n",
       "      <td>4.400000</td>\n",
       "      <td>6.900000</td>\n",
       "      <td>2.500000</td>\n",
       "    </tr>\n",
       "  </tbody>\n",
       "</table>\n",
       "</div>"
      ],
      "text/plain": [
       "       sepal length (cm)  sepal width (cm)  petal length (cm)  \\\n",
       "count         150.000000        150.000000         150.000000   \n",
       "mean            5.843333          3.057333           3.758000   \n",
       "std             0.828066          0.435866           1.765298   \n",
       "min             4.300000          2.000000           1.000000   \n",
       "25%             5.100000          2.800000           1.600000   \n",
       "50%             5.800000          3.000000           4.350000   \n",
       "75%             6.400000          3.300000           5.100000   \n",
       "max             7.900000          4.400000           6.900000   \n",
       "\n",
       "       petal width (cm)  \n",
       "count        150.000000  \n",
       "mean           1.199333  \n",
       "std            0.762238  \n",
       "min            0.100000  \n",
       "25%            0.300000  \n",
       "50%            1.300000  \n",
       "75%            1.800000  \n",
       "max            2.500000  "
      ]
     },
     "execution_count": 15,
     "metadata": {},
     "output_type": "execute_result"
    }
   ],
   "source": [
    "## 对于特征进行一些统计描述\n",
    "iris_features.describe()"
   ]
  },
  {
   "cell_type": "markdown",
   "metadata": {},
   "source": [
    "从统计描述中我们可以看到不同数值特征的变化范围。"
   ]
  },
  {
   "cell_type": "markdown",
   "metadata": {},
   "source": [
    "**Step4:可视化描述**"
   ]
  },
  {
   "cell_type": "code",
   "execution_count": 16,
   "metadata": {},
   "outputs": [],
   "source": [
    "## 合并标签和特征信息\n",
    "iris_all = iris_features.copy() ##进行浅拷贝，防止对于原始数据的修改\n",
    "iris_all['target'] = iris_target"
   ]
  },
  {
   "cell_type": "code",
   "execution_count": 17,
   "metadata": {},
   "outputs": [
    {
     "data": {
      "image/png": "[encoded data removed]",
      "text/plain": [
       "<Figure size 762.375x720 with 20 Axes>"
      ]
     },
     "metadata": {
      "needs_background": "light"
     },
     "output_type": "display_data"
    }
   ],
   "source": [
    "## 特征与标签组合的散点可视化\n",
    "sns.pairplot(data=iris_all,diag_kind='hist', hue= 'target')\n",
    "plt.show()"
   ]
  },
  {
   "cell_type": "markdown",
   "metadata": {},
   "source": [
    "从上图可以发现，在2D情况下不同的特征组合对于不同类别的花的散点分布，以及大概的区分能力。"
   ]
  },
  {
   "cell_type": "code",
   "execution_count": 18,
   "metadata": {},
   "outputs": [
    {
     "data": {
      "image/png": "[encoded data removed]",
      "text/plain": [
       "<Figure size 432x288 with 1 Axes>"
      ]
     },
     "metadata": {
      "needs_background": "light"
     },
     "output_type": "display_data"
    },
    {
     "data": {
      "image/png": "[encoded data removed]",
      "text/plain": [
       "<Figure size 432x288 with 1 Axes>"
      ]
     },
     "metadata": {
      "needs_background": "light"
     },
     "output_type": "display_data"
    },
    {
     "data": {
      "image/png": "[encoded data removed]",
      "text/plain": [
       "<Figure size 432x288 with 1 Axes>"
      ]
     },
     "metadata": {
      "needs_background": "light"
     },
     "output_type": "display_data"
    },
    {
     "data": {
      "image/png": "[encoded data removed]",
      "text/plain": [
       "<Figure size 432x288 with 1 Axes>"
      ]
     },
     "metadata": {
      "needs_background": "light"
     },
     "output_type": "display_data"
    }
   ],
   "source": [
    "for col in iris_features.columns:\n",
    "    sns.boxplot(x='target', y=col, saturation=0.5,palette='pastel', data=iris_all)\n",
    "    plt.title(col)\n",
    "    plt.show()"
   ]
  },
  {
   "cell_type": "markdown",
   "metadata": {},
   "source": [
    "利用箱型图我们也可以得到不同类别在不同特征上的分布差异情况。"
   ]
  },
  {
   "cell_type": "code",
   "execution_count": 20,
   "metadata": {},
   "outputs": [
    {
     "data": {
      "image/png": "[encoded data removed]",
      "text/plain": [
       "<Figure size 720x576 with 1 Axes>"
      ]
     },
     "metadata": {
      "needs_background": "light"
     },
     "output_type": "display_data"
    }
   ],
   "source": [
    "# 选取其前三个特征绘制三维散点图\n",
    "from mpl_toolkits.mplot3d import Axes3D\n",
    "\n",
    "fig = plt.figure(figsize=(10,8))\n",
    "ax = fig.add_subplot(111, projection='3d')\n",
    "# 第一个参数的控制图片的大小\n",
    "\n",
    "iris_all_class0 = iris_all[iris_all['target']==0].values\n",
    "iris_all_class1 = iris_all[iris_all['target']==1].values\n",
    "iris_all_class2 = iris_all[iris_all['target']==2].values\n",
    "# 'setosa'(0), 'versicolor'(1), 'virginica'(2)\n",
    "ax.scatter(iris_all_class0[:,0], iris_all_class0[:,1], iris_all_class0[:,2],label='setosa')\n",
    "ax.scatter(iris_all_class1[:,0], iris_all_class1[:,1], iris_all_class1[:,2],label='versicolor')\n",
    "ax.scatter(iris_all_class2[:,0], iris_all_class2[:,1], iris_all_class2[:,2],label='virginica')\n",
    "plt.legend()\n",
    "\n",
    "plt.show()"
   ]
  },
  {
   "cell_type": "markdown",
   "metadata": {},
   "source": [
    "**Step5:利用 逻辑回归模型 在二分类上 进行训练和预测**"
   ]
  },
  {
   "cell_type": "code",
   "execution_count": 21,
   "metadata": {},
   "outputs": [],
   "source": [
    "## 为了正确评估模型性能，将数据划分为训练集和测试集，并在训练集上训练模型，在测试集上验证模型性能。\n",
    "from sklearn.model_selection import train_test_split\n",
    "\n",
    "## 选择其类别为0和1的样本 （不包括类别为2的样本）\n",
    "iris_features_part = iris_features.iloc[:100]\n",
    "iris_target_part = iris_target[:100]\n",
    "\n",
    "## 测试集大小为20%， 80%/20%分\n",
    "x_train, x_test, y_train, y_test = train_test_split(iris_features_part, iris_target_part, test_size = 0.2, random_state = 2020)"
   ]
  },
  {
   "cell_type": "code",
   "execution_count": 22,
   "metadata": {},
   "outputs": [],
   "source": [
    "## 从sklearn中导入逻辑回归模型\n",
    "from sklearn.linear_model import LogisticRegression"
   ]
  },
  {
   "cell_type": "code",
   "execution_count": 23,
   "metadata": {},
   "outputs": [],
   "source": [
    "## 定义 逻辑回归模型 \n",
    "clf = LogisticRegression(random_state=0, solver='lbfgs')"
   ]
  },
  {
   "cell_type": "code",
   "execution_count": 23,
   "metadata": {},
   "outputs": [
    {
     "data": {
      "text/plain": [
       "LogisticRegression(C=1.0, class_weight=None, dual=False, fit_intercept=True,\n",
       "                   intercept_scaling=1, l1_ratio=None, max_iter=100,\n",
       "                   multi_class='auto', n_jobs=None, penalty='l2',\n",
       "                   random_state=0, solver='lbfgs', tol=0.0001, verbose=0,\n",
       "                   warm_start=False)"
      ]
     },
     "execution_count": 23,
     "metadata": {},
     "output_type": "execute_result"
    }
   ],
   "source": [
    "# 在训练集上训练逻辑回归模型\n",
    "clf.fit(x_train, y_train)"
   ]
  },
  {
   "cell_type": "code",
   "execution_count": 24,
   "metadata": {},
   "outputs": [
    {
     "name": "stdout",
     "output_type": "stream",
     "text": [
      "the weight of Logistic Regression: [[ 0.45181973 -0.81743611  2.14470304  0.89838607]]\n",
      "the intercept(w0) of Logistic Regression: [-6.53367714]\n"
     ]
    }
   ],
   "source": [
    "## 查看其对应的w\n",
    "print('the weight of Logistic Regression:',clf.coef_)\n",
    "\n",
    "## 查看其对应的w0\n",
    "print('the intercept(w0) of Logistic Regression:',clf.intercept_)"
   ]
  },
  {
   "cell_type": "code",
   "execution_count": 25,
   "metadata": {},
   "outputs": [],
   "source": [
    "## 在训练集和测试集上分布利用训练好的模型进行预测\n",
    "train_predict = clf.predict(x_train)\n",
    "test_predict = clf.predict(x_test)"
   ]
  },
  {
   "cell_type": "code",
   "execution_count": 26,
   "metadata": {},
   "outputs": [
    {
     "name": "stdout",
     "output_type": "stream",
     "text": [
      "The accuracy of the Logistic Regression is: 1.0\n",
      "The accuracy of the Logistic Regression is: 1.0\n",
      "The confusion matrix result:\n",
      " [[ 9  0]\n",
      " [ 0 11]]\n"
     ]
    },
    {
     "data": {
      "image/png": "[encoded data removed]",
      "text/plain": [
       "<Figure size 576x432 with 2 Axes>"
      ]
     },
     "metadata": {
      "needs_background": "light"
     },
     "output_type": "display_data"
    }
   ],
   "source": [
    "from sklearn import metrics\n",
    "\n",
    "## 利用accuracy（准确度）【预测正确的样本数目占总预测样本数目的比例】评估模型效果\n",
    "print('The accuracy of the Logistic Regression is:',metrics.accuracy_score(y_train,train_predict))\n",
    "print('The accuracy of the Logistic Regression is:',metrics.accuracy_score(y_test,test_predict))\n",
    "\n",
    "## 查看混淆矩阵 (预测值和真实值的各类情况统计矩阵)\n",
    "confusion_matrix_result = metrics.confusion_matrix(test_predict,y_test)\n",
    "print('The confusion matrix result:\\n',confusion_matrix_result)\n",
    "\n",
    "# 利用热力图对于结果进行可视化\n",
    "plt.figure(figsize=(8, 6))\n",
    "sns.heatmap(confusion_matrix_result, annot=True, cmap='Blues')\n",
    "plt.xlabel('Predicted labels')\n",
    "plt.ylabel('True labels')\n",
    "plt.show()"
   ]
  },
  {
   "cell_type": "markdown",
   "metadata": {},
   "source": [
    "我们可以发现其准确度为1，代表所有的样本都预测正确了。"
   ]
  },
  {
   "cell_type": "markdown",
   "metadata": {},
   "source": [
    "**Step6:利用 逻辑回归模型 在三分类(多分类)上 进行训练和预测**"
   ]
  },
  {
   "cell_type": "code",
   "execution_count": 27,
   "metadata": {},
   "outputs": [],
   "source": [
    "## 测试集大小为20%， 80%/20%分\n",
    "x_train, x_test, y_train, y_test = train_test_split(iris_features, iris_target, test_size = 0.2, random_state = 2020)"
   ]
  },
  {
   "cell_type": "code",
   "execution_count": 28,
   "metadata": {
    "id": "E5BA258B44844AC18F2954FF8DE7350E"
   },
   "outputs": [],
   "source": [
    "## 定义 逻辑回归模型 \n",
    "clf = LogisticRegression(random_state=0, solver='lbfgs')"
   ]
  },
  {
   "cell_type": "code",
   "execution_count": 29,
   "metadata": {
    "id": "65B925A6F0B74313BA4B41F9A3D1C740"
   },
   "outputs": [
    {
     "data": {
      "text/plain": [
       "LogisticRegression(C=1.0, class_weight=None, dual=False, fit_intercept=True,\n",
       "                   intercept_scaling=1, l1_ratio=None, max_iter=100,\n",
       "                   multi_class='auto', n_jobs=None, penalty='l2',\n",
       "                   random_state=0, solver='lbfgs', tol=0.0001, verbose=0,\n",
       "                   warm_start=False)"
      ]
     },
     "execution_count": 29,
     "metadata": {},
     "output_type": "execute_result"
    }
   ],
   "source": [
    "# 在训练集上训练逻辑回归模型\n",
    "clf.fit(x_train, y_train)"
   ]
  },
  {
   "cell_type": "code",
   "execution_count": 30,
   "metadata": {},
   "outputs": [
    {
     "name": "stdout",
     "output_type": "stream",
     "text": [
      "the weight of Logistic Regression:\n",
      " [[-0.45928925  0.83069886 -2.26606531 -0.9974398 ]\n",
      " [ 0.33117319 -0.72863423 -0.06841147 -0.9871103 ]\n",
      " [ 0.12811606 -0.10206463  2.33447679  1.9845501 ]]\n",
      "the intercept(w0) of Logistic Regression:\n",
      " [  9.43880677   3.93047364 -13.36928041]\n"
     ]
    }
   ],
   "source": [
    "## 查看其对应的w\n",
    "print('the weight of Logistic Regression:\\n',clf.coef_)\n",
    "\n",
    "## 查看其对应的w0\n",
    "print('the intercept(w0) of Logistic Regression:\\n',clf.intercept_)\n",
    "\n",
    "## 由于这个是3分类，所有我们这里得到了三个逻辑回归模型的参数，其三个逻辑回归组合起来即可实现三分类。"
   ]
  },
  {
   "cell_type": "code",
   "execution_count": 31,
   "metadata": {},
   "outputs": [
    {
     "name": "stdout",
     "output_type": "stream",
     "text": [
      "The test predict Probability of each class:\n",
      " [[1.03461734e-05 2.33279475e-02 9.76661706e-01]\n",
      " [9.69926591e-01 3.00732875e-02 1.21676996e-07]\n",
      " [2.09992547e-02 8.69156617e-01 1.09844128e-01]\n",
      " [3.61934870e-03 7.91979966e-01 2.04400685e-01]\n",
      " [7.90943202e-03 8.00605300e-01 1.91485268e-01]\n",
      " [7.30034960e-04 6.60508053e-01 3.38761912e-01]\n",
      " [1.68614209e-04 1.86322045e-01 8.13509341e-01]\n",
      " [1.06915332e-01 8.90815532e-01 2.26913667e-03]\n",
      " [9.46928070e-01 5.30707294e-02 1.20016057e-06]\n",
      " [9.62346385e-01 3.76532233e-02 3.91897289e-07]\n",
      " [1.19533384e-04 1.38823468e-01 8.61056998e-01]\n",
      " [8.78881883e-03 6.97207361e-01 2.94003820e-01]\n",
      " [9.73938143e-01 2.60617346e-02 1.22613836e-07]\n",
      " [1.78434056e-03 4.79518177e-01 5.18697482e-01]\n",
      " [5.56924342e-04 2.46776841e-01 7.52666235e-01]\n",
      " [9.83549842e-01 1.64500670e-02 9.13617258e-08]\n",
      " [1.65201477e-02 9.54672749e-01 2.88071038e-02]\n",
      " [8.99853708e-03 7.82707576e-01 2.08293887e-01]\n",
      " [2.98015025e-05 5.45900066e-02 9.45380192e-01]\n",
      " [9.35695863e-01 6.43039513e-02 1.85301359e-07]\n",
      " [9.80621190e-01 1.93787400e-02 7.00125246e-08]\n",
      " [1.68478815e-04 3.30167226e-01 6.69664295e-01]\n",
      " [3.54046163e-03 4.02267805e-01 5.94191734e-01]\n",
      " [9.70617284e-01 2.93824740e-02 2.42443967e-07]\n",
      " [2.56895205e-04 1.54631583e-01 8.45111522e-01]\n",
      " [3.48668490e-02 9.11966141e-01 5.31670105e-02]\n",
      " [1.47218847e-02 6.84038115e-01 3.01240001e-01]\n",
      " [9.46510447e-04 4.28641987e-01 5.70411503e-01]\n",
      " [9.64848137e-01 3.51516748e-02 1.87917880e-07]\n",
      " [9.70436779e-01 2.95624025e-02 8.18591606e-07]]\n",
      "The accuracy of the Logistic Regression is: 0.9833333333333333\n",
      "The accuracy of the Logistic Regression is: 0.8666666666666667\n"
     ]
    }
   ],
   "source": [
    "## 在训练集和测试集上分布利用训练好的模型进行预测\n",
    "train_predict = clf.predict(x_train)\n",
    "test_predict = clf.predict(x_test)\n",
    "\n",
    "## 由于逻辑回归模型是概率预测模型（前文介绍的 p = p(y=1|x,\\theta)）,所有我们可以利用 predict_proba 函数预测其概率\n",
    "train_predict_proba = clf.predict_proba(x_train)\n",
    "test_predict_proba = clf.predict_proba(x_test)\n",
    "\n",
    "print('The test predict Probability of each class:\\n',test_predict_proba)\n",
    "## 其中第一列代表预测为0类的概率，第二列代表预测为1类的概率，第三列代表预测为2类的概率。\n",
    "\n",
    "## 利用accuracy（准确度）【预测正确的样本数目占总预测样本数目的比例】评估模型效果\n",
    "print('The accuracy of the Logistic Regression is:',metrics.accuracy_score(y_train,train_predict))\n",
    "print('The accuracy of the Logistic Regression is:',metrics.accuracy_score(y_test,test_predict))"
   ]
  },
  {
   "cell_type": "code",
   "execution_count": 32,
   "metadata": {
    "id": "F14A00D3F17E4A859ACFA9EF9F454E4F"
   },
   "outputs": [
    {
     "name": "stdout",
     "output_type": "stream",
     "text": [
      "The confusion matrix result:\n",
      " [[10  0  0]\n",
      " [ 0  8  2]\n",
      " [ 0  2  8]]\n"
     ]
    },
    {
     "data": {
      "image/png": "[encoded data removed]",
      "text/plain": [
       "<Figure size 576x432 with 2 Axes>"
      ]
     },
     "metadata": {
      "needs_background": "light"
     },
     "output_type": "display_data"
    }
   ],
   "source": [
    "## 查看混淆矩阵\n",
    "confusion_matrix_result = metrics.confusion_matrix(test_predict,y_test)\n",
    "print('The confusion matrix result:\\n',confusion_matrix_result)\n",
    "\n",
    "# 利用热力图对于结果进行可视化\n",
    "plt.figure(figsize=(8, 6))\n",
    "sns.heatmap(confusion_matrix_result, annot=True, cmap='Blues')\n",
    "plt.xlabel('Predicted labels')\n",
    "plt.ylabel('True labels')\n",
    "plt.show()"
   ]
  },
  {
   "cell_type": "markdown",
   "metadata": {},
   "source": [
    "通过结果我们可以发现，其在三分类的结果的预测准确度上有所下降，其在测试集上的准确度为:$86.67\\%$，这是由于'versicolor'（1）和 'virginica'（2）这两个类别的特征，我们从可视化的时候也可以发现，其特征的边界具有一定的模糊性（边界类别混杂，没有明显区分边界），所有在这两类的预测上出现了一定的错误。"
   ]
  },
  {
   "cell_type": "markdown",
   "metadata": {},
   "source": [
    "## 5 重要知识点\n",
    "\n",
    "逻辑回归 原理简介：\n",
    "\n",
    "Logistic回归虽然名字里带“回归”，但是它实际上是一种分类方法，主要用于两分类问题（即输出只有两种，分别代表两个类别），所以利用了Logistic函数（或称为Sigmoid函数），函数形式为：\n",
    "$$ \n",
    "logi(z)=\\frac{1}{1+e^{-z}} \n",
    "$$\n",
    "\n",
    "其对应的函数图像可以表示如下:"
   ]
  },
  {
   "cell_type": "code",
   "execution_count": 33,
   "metadata": {},
   "outputs": [
    {
     "data": {
      "image/png": "[encoded data removed]",
      "text/plain": [
       "<Figure size 432x288 with 1 Axes>"
      ]
     },
     "metadata": {
      "needs_background": "light"
     },
     "output_type": "display_data"
    }
   ],
   "source": [
    "import numpy as np\n",
    "import matplotlib.pyplot as plt\n",
    "x = np.arange(-5,5,0.01)\n",
    "y = 1/(1+np.exp(-x))\n",
    "\n",
    "plt.plot(x,y)\n",
    "plt.xlabel('z')\n",
    "plt.ylabel('y')\n",
    "plt.grid()\n",
    "plt.show()"
   ]
  },
  {
   "cell_type": "markdown",
   "metadata": {},
   "source": [
    "通过上图我们可以发现 Logistic 函数是单调递增函数，并且在z=0的时候取值为0.5，并且$logi(\\cdot)$函数的取值范围为$(0,1)$。\n",
    "\n",
    "而回归的基本方程为$z=w_0+\\sum_i^N w_ix_i$，\n",
    "\n",
    "将回归方程写入其中为：\n",
    "$$\n",
    "p = p(y=1|x,\\theta) = h_\\theta(x,\\theta)=\\frac{1}{1+e^{-(w_0+\\sum_i^N w_ix_i)}}\n",
    "$$\n",
    "\n",
    "所以, $p(y=1|x,\\theta) = h_\\theta(x,\\theta)$，$p(y=0|x,\\theta) = 1-h_\\theta(x,\\theta)$\n",
    "\n",
    "逻辑回归从其原理上来说，逻辑回归其实是实现了一个决策边界：对于函数 $y=\\frac{1}{1+e^{-z}}$,当 $z=>0$时,$y=>0.5$,分类为1，当 $z<0$时,$y<0.5$,分类为0，其对应的$y$值我们可以视为类别1的概率预测值.\n",
    "\n",
    "对于模型的训练而言：实质上来说就是利用数据求解出对应的模型的特定的$w$。从而得到一个针对于当前数据的特征逻辑回归模型。\n",
    "\n",
    "而对于多分类而言，将多个二分类的逻辑回归组合，即可实现多分类。"
   ]
  },
  {
   "cell_type": "markdown",
   "metadata": {
    "id": "88F39584F8884E3B832A11DDFB5D28B4",
    "mdEditEnable": false
   },
   "source": [
    "END"
   ]
  }
 ],
 "metadata": {
  "kernelspec": {
   "display_name": "Python 3",
   "language": "python",
   "name": "python3"
  },
  "language_info": {
   "codemirror_mode": {
    "name": "ipython",
    "version": 3
   },
   "file_extension": ".py",
   "mimetype": "text/x-python",
   "name": "python",
   "nbconvert_exporter": "python",
   "pygments_lexer": "ipython3",
   "version": "3.6.2"
  }
 },
 "nbformat": 4,
 "nbformat_minor": 4
}
